{
 "cells": [
  {
   "cell_type": "markdown",
   "id": "2f798e3c",
   "metadata": {},
   "source": [
    "1) Write an SQL query to determine the 5th highest salary without using TOP or limit method.\n",
    "\n",
    ":- select salary \n",
    "   from worker W1\n",
    "   where 4 = (\n",
    "   select count (distinct (W2.salary))\n",
    "   from worker W2\n",
    "   where W2.salary >= W1.salary\n",
    "   );"
   ]
  },
  {
   "cell_type": "markdown",
   "id": "a93840fe",
   "metadata": {},
   "source": [
    "2) Write an SQL query to fetch the list of employees with the same salary.\n",
    "\n",
    ":- Select distinct W.WORKER_ID, W.FIRST_NAME, W.Salary \n",
    "   from Worker W, Worker W1 \n",
    "   where W.Salary = W1.Salary \n",
    "   and W.WORKER_ID != W1.WORKER_ID;"
   ]
  }
 ],
 "metadata": {
  "kernelspec": {
   "display_name": "Python 3 (ipykernel)",
   "language": "python",
   "name": "python3"
  },
  "language_info": {
   "codemirror_mode": {
    "name": "ipython",
    "version": 3
   },
   "file_extension": ".py",
   "mimetype": "text/x-python",
   "name": "python",
   "nbconvert_exporter": "python",
   "pygments_lexer": "ipython3",
   "version": "3.9.7"
  }
 },
 "nbformat": 4,
 "nbformat_minor": 5
}
